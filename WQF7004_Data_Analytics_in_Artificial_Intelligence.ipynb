{
  "nbformat": 4,
  "nbformat_minor": 0,
  "metadata": {
    "colab": {
      "provenance": [],
      "authorship_tag": "ABX9TyOf1wivXp0Iwebz534aqQF5",
      "include_colab_link": true
    },
    "kernelspec": {
      "name": "python3",
      "display_name": "Python 3"
    },
    "language_info": {
      "name": "python"
    }
  },
  "cells": [
    {
      "cell_type": "markdown",
      "metadata": {
        "id": "view-in-github",
        "colab_type": "text"
      },
      "source": [
        "<a href=\"https://colab.research.google.com/github/JinboYao/Data-Analytics-Project/blob/main/WQF7004_Data_Analytics_in_Artificial_Intelligence.ipynb\" target=\"_parent\"><img src=\"https://colab.research.google.com/assets/colab-badge.svg\" alt=\"Open In Colab\"/></a>"
      ]
    },
    {
      "cell_type": "markdown",
      "source": [
        "# **WQF7004 Data Analytics in Artificial Intelligence**\n",
        "30%\n",
        "Deadline 14 June 2024 11.59pm\n",
        "# **Tittle:**\n",
        "Group Members"
      ],
      "metadata": {
        "id": "be2pNSzffsS6"
      }
    },
    {
      "cell_type": "markdown",
      "source": [
        "| No. | Matric Number | Name             |\n",
        "| --- | ------------ | ----------------|\n",
        "| 1.  | 22095752     | Jinbo Yao     |\n",
        "| 2.  |      |   |\n",
        "| 3.  |      |     |\n",
        "| 4.  |      |     |\n",
        "| 5.  |      |     |"
      ],
      "metadata": {
        "id": "rplqxazwPakK"
      }
    },
    {
      "cell_type": "markdown",
      "source": [
        "## **1.0 Project background**\n",
        "\n",
        "In contemporary society, the pursuit of happiness has transcended the traditional boundaries of personal pursuit and has become an important criterion for measuring social progress. This paradigm shift has spurred interdisciplinary interest, attracting leading experts from fields such as economics, psychology, survey analysis, national statistics, health, and public policy. They unanimously recognized the complexity of the multifaceted construct of well-being: emphasizing its dependence on the intricate interplay of various factors and being influenced by factors such as economic production, social support, culture, and the environment. As a result, there is growing interest in understanding the determinants of happiness and well-being on a global scale.\n",
        "\n",
        "In recent years, growing awareness of the importance of happiness has prompted collective efforts to understand its determinants on a large scale. As a result, the search for happiness became a concerted effort, producing massive data sets related to happiness. Experts delve into massive data sets to uncover the complex patterns behind this profound human experience. This study is based on these developments.\n",
        "\n",
        "This paper explores happiness data of Malaysia using the Cross-Industry Standard Process for Data Mining (CRISP-DM) as a methodological framework. Through meticulous data cleaning, transformation and rigorous analytical methods, the aim is to answer fundamental questions about happiness, delve deeper into trends, identify potential influencing factors and gain predictive insights using regression analysis models. By obtaining research conclusions through these methods, we can understand what makes Malaysian people happy and then develop data-driven policies and initiatives that can effectively improve the well-being of citizens and improve the overall quality of life, thereby developing policies and initiatives that promote people's happiness and improve the quality of life."
      ],
      "metadata": {
        "id": "rqWC7bSsg9hU"
      }
    },
    {
      "cell_type": "markdown",
      "source": [
        "## **2.0 Problem Statement**\n",
        "\n",
        "Happiness is vital to attain most of the Sustainable Development Goals (SDGs), particularly in Goal 3 on guaranteeing good health and well-being at all ages. Malaysia offers its citizens access to fundamental necessities, including comfortable living conditions, food, and housing, contributing to a peaceful environment free of hostilities. The nation adeptly navigates challenges to its sustainability, maintaining an annual economic growth rate that exhibits resilience within the range of three to four percent. This economic stability plays a pivotal role in fortifying the overall welfare of the populace, contributing to a foundation of prosperity.\n",
        "\n",
        "However, notwithstanding these commendable achievements, a noteworthy concern emerges from the World Happiness Report 2023. An analysis of happiness levels in Malaysia reveals a discernible decline during the period spanning 2023 to 2022, precipitating a consequential descent in the global ranking from the 70th to the 79th position among 158 countries. This necessitates a scholarly inquiry into the multifaceted determinants of happiness, urging policymakers and community stakeholders to engage in an in-depth exploration of underlying factors.\n",
        "\n",
        "To date, there has been little discussion on factors that influence happiness in Malaysia thus far. More research is wanted for the Malaysian government to evaluate the determinants of happiness in Malaysia. Across the diverse landscape of Malaysia, understanding the complex dynamics that influence people's well-being and happiness faces multifaceted challenges. Diverse socio-economic, cultural, and environmental factors make up a complex index of happiness. Uncovering the subtle interactions between these variables with the aim of improving the overall well-being and quality of life of the Malaysian people is crucial for targeted interventions and policies."
      ],
      "metadata": {
        "id": "5WR553jiiS4S"
      }
    },
    {
      "cell_type": "markdown",
      "source": [
        "## **3.0 Project Objective**\n",
        "\n",
        "<p align = \"justify\">a. Identify Trends in Malaysia's Happiness Score and Ranking to unveil patterns and variations in Malaysia's happiness score and ranking throughout different years, with the aim of enhancing understanding of Malaysia's present state of happiness and its position in the overall rankings.</p>\n",
        "\n",
        "\n",
        "<p align = \"justify\">b. Conduct exploratory data analysis to clarify the directional impact of per capita GDP, social support, life expectancy, freedom and other factors on the Malaysian happiness index, aiming to reveal internal relationships and dependencies, thereby laying the foundation for subsequent modeling.</p>\n",
        "\n",
        "<p align = \"justify\">c. Create a predictive model to predict happiness in Malaysia by selected features and conduct a comprehensive comparative analysis of multiple models to evaluate their accuracy, reliability and interpretability to determine the best model. Happiness data can be accurately predicted and can also add business value by providing actionable insights.</p>\n",
        "\n"
      ],
      "metadata": {
        "id": "BrQUPDDliS_u"
      }
    },
    {
      "cell_type": "markdown",
      "source": [
        "## **4.0 Project Question**\n",
        "\n",
        "a.What are the key factors that influence the happiness level in Malaysia, and how do these factors affect?\n",
        "\n",
        "b.Is there a correlation between the GDP per capita level of residents and their reported happiness?\n",
        "\n",
        "c.Which predictive model, among those explored, proves most effective in estimating the national happiness of Malaysia?"
      ],
      "metadata": {
        "id": "3-esTh3viR99"
      }
    },
    {
      "cell_type": "markdown",
      "source": [
        "## **5.0 Methodology**\n",
        "The methodology employed for this project is the Cross-Industry Standard Process for Data Mining (CRISP-DM). Widely recognized as the most common methodology for data science projects, CRISP-DM is structured into six consecutive phases. This section described the tasks associated with each phase and how they will be applied to this project.\n",
        "![image.png](https://img2.imgtp.com/2024/05/04/NGcSGyA6.png)"
      ],
      "metadata": {
        "id": "7FiJv1IDiPvA"
      }
    },
    {
      "cell_type": "markdown",
      "source": [
        "### **5.1 Data Understanding**\n"
      ],
      "metadata": {
        "id": "lTIqUTXWhxd3"
      }
    },
    {
      "cell_type": "markdown",
      "source": [
        "#### **5.1.1 Data Collection**\n",
        "<p align = \"justify\">This project presents a report on data processing using Google colab to analyze the world happiness indicators. The dataset is sourced from Kaggle and represents a cross-sectional examination of global happiness indicators.</p>\n",
        "\n",
        "<p align = \"justify\">The World Happiness Report stands as a landmark survey of the state of global happiness. The dataset, accessible at Kaggle, https://www.kaggle.com/datasets/mathurinache/world-happiness-report,\n",
        "spans the years 2015 to 2021 and encompasses data from 158 countries.</p>"
      ],
      "metadata": {
        "id": "GiYFc-wFioTg"
      }
    },
    {
      "cell_type": "markdown",
      "source": [
        "####**5.1.2 Data Description**\n",
        "\n",
        "<p align = \"justify\">The datasets describe information of various key indicators for countries in various regions. These include the\n",
        "ladder score or happiness score, logged GDP per capita, social support, healthy life expectancy, freedom to make life choices, generosity, and perceptions of corruption. The data are extracted from various sources, including the Gallup World Poll (GWP) for the survey-based Subjective Well Being (SWB) measure, World Development Indicators (WDI) for GDP per capita, and the World Health Organization (WHO) for data on healthy life expectancies at birth.</p>"
      ],
      "metadata": {
        "id": "azqeu9v6Q8u7"
      }
    },
    {
      "cell_type": "markdown",
      "source": [
        "####**5.1.3 Data Exploration**\n",
        "\n",
        "In our pursuit to uncover the data's characteristics, we will explore the information of the dataset, identifying the NULL values, identifying duplicate values, validating data volume and assessing completeness."
      ],
      "metadata": {
        "id": "d85D7ODqRIYB"
      }
    },
    {
      "cell_type": "markdown",
      "source": [
        "#### **5.1.4 Data Quality**\n",
        "\n",
        "Based on the initial exploration of the datasets, the following insights about the data quality have been observed:\n",
        "\n",
        "1. The datasets exhibit uneven features, which will be addressed in the data selection process. Dependent and independent variables will be identified and selected for each dataset.\n",
        "2. Column names are inconsistent across datasets, and this will be rectified in the data cleaning process to standardize common feature names.\n",
        "3. A single missing value exists in the 2018 dataset, specifically in the \"perceptions of corruption\" column. This will be handled during the data cleaning process.\n",
        "4. No duplicates were found in each dataset, evident from the fact that the number of unique countries matches the number of rows in each dataset."
      ],
      "metadata": {
        "id": "1Or6SDwoRNdR"
      }
    },
    {
      "cell_type": "markdown",
      "source": [
        "### **5.2 Data Preparation/Data Preprocessing**"
      ],
      "metadata": {
        "id": "fhnQsmksRZ_L"
      }
    },
    {
      "cell_type": "markdown",
      "source": [
        "#### **5.2.1 Data Selection**\n",
        "\n",
        "<p align = \"justify\">The project aims to assess the overall happiness and well-being of individuals and communities globally while investigating the factors influencing happiness. We will utilize data spanning from 2015 to 2021. Our focus is on using ladder scores as dependent variables and including independent variables such as logged GDP per capita, social support, healthy life expectancy, freedom to make life choices, generosity, and perceptions of corruption.</p>"
      ],
      "metadata": {
        "id": "rD56a9tHRdmr"
      }
    },
    {
      "cell_type": "markdown",
      "source": [
        "#### **5.2.2 Data Cleaning**\n",
        "<p align = \"justify\">The data is arranged into individual CSV files for each year, covering the period from 2015 to 2021. Our next step is to carry out a data cleaning process. This involves dealing with missing values and standardizing the column names of every dataset for consistency. </p>"
      ],
      "metadata": {
        "id": "lYl1ec14R2j5"
      }
    },
    {
      "cell_type": "markdown",
      "source": [
        "####**5.2.3 Data Transformation**\n",
        "<p align = \"justify\">This process of converting raw data into a more suitable format for analysis modelling, and visualization. This process aims to enhance the quality and structure of data, making it more meaningful and applicable for the intended purpose. As part of this process, we will augment each dataset by adding a \"Year\" column, sort the happiness score in descending order, and insert a \"Ranking\" column based on happiness score. This addition will facilitate data integration and enable the exploration of happiness score trends over the years.</p>"
      ],
      "metadata": {
        "id": "ErOwnoN_SgAm"
      }
    },
    {
      "cell_type": "markdown",
      "source": [
        "### **5.3 Exploratory Data Analysis**\n",
        "on average, the squared justify\">\n",
        "To uncover patterns, identify anomalies, test hypotheses, and validate assumptions within the dataset, we will conduct univariate, bivariate, and multivariate exploratory data analysis. This involves utilizing summary statistics and visualizations to gain comprehensive insights into the data's structure and relationships.</p>"
      ],
      "metadata": {
        "id": "K0zAfkNRSnhi"
      }
    },
    {
      "cell_type": "markdown",
      "source": [
        "#### **5.3.1 Map Visualization**\n",
        "\n",
        "*   Use a world map to display ladder scores globally.\n",
        "*   This can provide a visual representation of happiness levels across different countries, making it easy to identify geographical patterns.\n"
      ],
      "metadata": {
        "id": "j-91d0oZSrpV"
      }
    },
    {
      "cell_type": "markdown",
      "source": [
        "#### **5.3.2 Bar Chart**\n",
        "\n",
        "\n",
        "*   Create a bar chart to represent the worldwide happiness ranking by countries from 2015 to 2021.\n",
        "*   This allows for a quick comparison of Malaysia's happiness rankings with other countries worldwide\n",
        "\n",
        "Based on the bar charts presented below, the happiness rankings for Malaysia from 2015 to 2021 are summarized in the table:\n"
      ],
      "metadata": {
        "id": "xOraYPC9SuRb"
      }
    },
    {
      "cell_type": "markdown",
      "source": [
        "#### **5.3.3 Line Chart**\n",
        "\n",
        "*   Utilize a line chart to show the trend of happiness scores between Malaysia with countries in the same region (Southeast Asia) from 2015 to 2021.\n",
        "*   This helps in identifying regional trends and variations over time.\n",
        "\n",
        "\n",
        "\n",
        "\n",
        "Based on the presented line chart, the following observations can be made:\n",
        "\n",
        "1. Singapore consistently maintains the highest happiness scores in the Southeast Asia region throughout the years.\n",
        "2. Malaysia holds the third-highest happiness scores in Southeast Asia from 2015 to 2017, ranking behind Singapore and Thailand. In 2018, Malaysia briefly rises to the second-highest position before dropping to the fourth-highest position from 2019 to 2021.\n",
        "3. Malaysia's happiness scores exhibit an upward trend from 2015 to 2018, increasing from 5.77 to 6.322. However, there is a subsequent decline, with scores of 5.339, 5.3843, and 5.384 in 2019, 2020, and 2021, respectively."
      ],
      "metadata": {
        "id": "wBxjFOFNS1y_"
      }
    },
    {
      "cell_type": "markdown",
      "source": [
        "#### **5.3.4 Pairwise Scatter Plot**\n",
        "\n",
        "\n",
        "*   Generate scatter plots to identify relationships among different variables.\n",
        "*   Scatter plots are effective for visualizing the distribution of data points and detecting potential correlations or irregularities.\n",
        "\n",
        "Based on the presented pairwise scatter plot, several observations can be made:\n",
        "\n",
        "\n",
        "1. There is a strong positive correlation between GDP per capita, Social support, Healthy life expectancy, Freedom to make life choices, and Happiness Score. This implies that as these factors increase, the Happiness Score tends to increase as well.\n",
        "2. There appears to be a weak positive correlation between Perceptions of corruption and Happiness Score. This suggests that higher levels of perceived corruption may be associated with slightly lower Happiness Scores.\n",
        "3. There is no apparent relationship between Generosity and Happiness Score. The scatter plot does not show a clear trend or correlation between these two variables, indicating that one does not significantly impact the other in a linear fashion.\n",
        "\n"
      ],
      "metadata": {
        "id": "y-3go36MS37x"
      }
    },
    {
      "cell_type": "markdown",
      "source": [
        "#### **5.3.5 Correlation Matrix and Heatmap**\n",
        "\n",
        "*   Calculate the correlation matrix to quantify the relationships between variables.\n",
        "*   Create a heatmap for a visual representation of the correlation matrix.\n",
        "*   This aids in identifying strong correlations to understand how different\n",
        "factors may be related.\n",
        "\n",
        "Based on the presented Correlation Matrix and Heatmap, the following observations can be made:\n",
        "\n",
        "1. GDP per capita exhibits the strongest positive correlation with Happiness Score, having a correlation coefficient of 0.79. This is followed by Healthy life expectancy (0.73) and Social support (0.63).\n",
        "\n",
        "2. There is a relatively weak positive correlation between Freedom to make life choices and Happiness Score, with a correlation coefficient of 0.56. Additionally, there is a weaker positive correlation between Perceptions of corruption and Happiness Score, with a correlation coefficient of 0.4.\n",
        "\n",
        "3. Generosity shows very little correlation with Happiness Score, with a correlation coefficient close to 0 (0.103).\n"
      ],
      "metadata": {
        "id": "2w_ZyF5eS6XZ"
      }
    },
    {
      "cell_type": "markdown",
      "source": [
        "#### **5.3.6 Summary statistics**\n",
        "\n",
        "*  Develop a summary table to present statistical characteristics of the data.\n",
        "*   Include measures such as mean, median, standard deviation, and other relevant statistics to gain insights into the central tendency and variability of the data.\n"
      ],
      "metadata": {
        "id": "C-5fRrXRS9Ic"
      }
    },
    {
      "cell_type": "markdown",
      "source": [
        "## **6.0 Modelling**"
      ],
      "metadata": {
        "id": "fBSthJhxS_wQ"
      }
    },
    {
      "cell_type": "markdown",
      "source": [
        "### **6.1 Linear Regression**"
      ],
      "metadata": {
        "id": "pC_mzzrMTQBm"
      }
    },
    {
      "cell_type": "markdown",
      "source": [
        "### **6.2 XGBOOST**\n",
        "\n",
        "XGBoost is short for extreme gradient boosting, which is a emsemble machine learning algorithm based on multiple decision trees with gradient boost as the framework.\n",
        "\n",
        "XGBoost builds decision trees in a sequential manner and each trees influences the prediction of the next trees. The predictions of each trees will be combined which makes XGBoost a robust and accurate algorithm.\n",
        "\n",
        "XGBoost is effective in solving both regression and classification tasks, it can also handle categorical variables without encoding.\n",
        "\n",
        "This is the reason why XGBoost was chosen as one of the model in our project which is a multiclass classification problem."
      ],
      "metadata": {
        "id": "FUyWbiK-TUBb"
      }
    },
    {
      "cell_type": "markdown",
      "source": [
        "### **6.3 Random Forest Regression**\n",
        "\n",
        "<p align = \"justify\">Random Forest regression is a machine learning technique that constructs an ensemble of decision trees to predict the happiness score based on selected independent variables. This method utilizes ensemble learning for regression purposes. It consists of multiple decision trees that are built independently and combined to enhance prediction accuracy compared to a single model.</p>"
      ],
      "metadata": {
        "id": "cw2E3nWBTXLj"
      }
    },
    {
      "cell_type": "markdown",
      "source": [
        "## **7.0 Insights and Recommendations**\n",
        "\n",
        "*   Thoroughness of data preprocessing techniques applied.\n",
        "*   Clarity and depth of exploratory data analysis.\n",
        "*   Creativity in visualization and interpretation of results.\n",
        "*   Coherence and professionalism of presentation.\n",
        "*   Contribution of each group member to the overall project\n",
        "\n"
      ],
      "metadata": {
        "id": "cSyh0sbki9rH"
      }
    },
    {
      "cell_type": "markdown",
      "source": [
        "## **Members’ Contribution**\n",
        "## XXX - Presentation proposal,Methodology, Data cleansing, EDA\n",
        "## XXX - Presentation proposal, Result Evaluation and Interpretation\n",
        "## XXX - Presentation final report,Find dataset, Problem statement,Methodology,Data pre-processing, Modelling\n",
        "## XXX - Project Background, Project objective, project question, Modelling\n",
        "## XXX - Presentation final report,Modelling"
      ],
      "metadata": {
        "id": "FOgrpmJYjaP_"
      }
    }
  ]
}